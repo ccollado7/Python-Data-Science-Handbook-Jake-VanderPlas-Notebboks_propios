{
 "cells": [
  {
   "cell_type": "markdown",
   "metadata": {},
   "source": [
    "# Computation on NumPy Arrays: Universal Functions"
   ]
  },
  {
   "cell_type": "markdown",
   "metadata": {},
   "source": [
    "Numpy provee una interface flexible para optimizar el computo con arrays de datos\n",
    "\n",
    "Las operaciones de computo con NumPy pueden ser muy rapidas o pueden ser muy lentas. La clave para que sean rapidas es utilizar operaciones VECTORIZADAS, generalmente implementadas a traves de las funciones universales (ufuncs)\n",
    "\n",
    "Las funciones universales pueden ser utilizadas para realizar calculos repetitivos en elementos del arrays "
   ]
  },
  {
   "cell_type": "markdown",
   "metadata": {},
   "source": [
    "## The Slowness od Loops"
   ]
  },
  {
   "cell_type": "markdown",
   "metadata": {},
   "source": [
    "La implementacion por default (CPython) realiza algunas operaciones muy lentas. Esto se debe en parte a la naturaleza dinamica e interpretado del lenguaje. Las operaciones NO PUEDE SER COMPILADAS al EFICIENTE codigo de maquina como si es realizado en los lenguajes C o Fortran\n",
    "\n",
    "La relativa lentitud de Python generalmente se manifiesta en situaciones donde muchas pequeñas operaciones son realizadas en forma repetitiva, por ejemplo loops que operan en elementos de un array"
   ]
  },
  {
   "cell_type": "markdown",
   "metadata": {},
   "source": [
    "Comparando los tiempos de ejecucion de calculos por medios de loop en Python o por medio de las funcionalidades de NumPy se puede comprobar que la diferencia es significativa. Esto no se debe a las operaciones en si, si no a la necesidad de CPython de chequeo que es necesario realizar en cada ciclo del loop"
   ]
  },
  {
   "cell_type": "markdown",
   "metadata": {},
   "source": [
    "## Introduction UFuncs"
   ]
  },
  {
   "cell_type": "markdown",
   "metadata": {},
   "source": [
    "Para muchos tipos de operaciones NumPy preovee una interface conveniente de este tipo de rutina de \"tipado dinamico\", el cual es conocido como operaciones de VECTORIZACION. Esto tiene la ventaja de realizar una operacion sobre el array, el cual es aplicado a cada elemento del mismos.\n",
    "\n",
    "El uso de la vectorizacion tiene objetivo es utilizar los loops compilados que forman parte de NumPy, con lo cual se logran tiempos de ejecucion mucho mas rapidos."
   ]
  },
  {
   "cell_type": "markdown",
   "metadata": {},
   "source": [
    "Las operaciones vectorizadas son implementadas en NumPy via UFUNCS, cuya funcion principales es ejecutar operaciones repetitivas rapidamente en los arrays de NumPy."
   ]
  },
  {
   "cell_type": "markdown",
   "metadata": {},
   "source": [
    "Ufuncs son extremadamente flexibles. Por ejemplo se pueden realizar operaciones entre dos arrays"
   ]
  },
  {
   "cell_type": "code",
   "execution_count": 1,
   "metadata": {},
   "outputs": [],
   "source": [
    "import numpy as np"
   ]
  },
  {
   "cell_type": "code",
   "execution_count": 3,
   "metadata": {},
   "outputs": [
    {
     "data": {
      "text/plain": [
       "array([0.        , 0.5       , 0.66666667, 0.75      , 0.8       ])"
      ]
     },
     "execution_count": 3,
     "metadata": {},
     "output_type": "execute_result"
    }
   ],
   "source": [
    "np.arange(5) / np.arange(1,6)"
   ]
  },
  {
   "cell_type": "markdown",
   "metadata": {},
   "source": [
    "Las UFuncs NO estan limitadas solo a arrays 1D ya que tambien pueden actuar en arrays multidimensionales"
   ]
  },
  {
   "cell_type": "code",
   "execution_count": 4,
   "metadata": {},
   "outputs": [],
   "source": [
    "x = np.arange(9).reshape(3,3) #Creo un array de 9 elementos con dimensiones 3x3"
   ]
  },
  {
   "cell_type": "code",
   "execution_count": 5,
   "metadata": {},
   "outputs": [
    {
     "data": {
      "text/plain": [
       "array([[0, 1, 2],\n",
       "       [3, 4, 5],\n",
       "       [6, 7, 8]])"
      ]
     },
     "execution_count": 5,
     "metadata": {},
     "output_type": "execute_result"
    }
   ],
   "source": [
    "x"
   ]
  },
  {
   "cell_type": "code",
   "execution_count": 6,
   "metadata": {},
   "outputs": [
    {
     "data": {
      "text/plain": [
       "array([[  1,   2,   4],\n",
       "       [  8,  16,  32],\n",
       "       [ 64, 128, 256]], dtype=int32)"
      ]
     },
     "execution_count": 6,
     "metadata": {},
     "output_type": "execute_result"
    }
   ],
   "source": [
    "2**x #Ejecuto una operacion de potencia utilizando el array anterior"
   ]
  },
  {
   "cell_type": "markdown",
   "metadata": {},
   "source": [
    "Los computos realizados utilizando vectorizacion a traves de UFuncs son siempre mas eficientes que su contraparte implementado a traves de los loops de Python, especialmente cuando el tamaño del array crece en tamaño. Cada vez que se vean en Python operaciones a traves de loops es conveniente considerar si estas operaciones no pueden ser reemplazadas por medio de expresiones vectorizadas"
   ]
  },
  {
   "cell_type": "markdown",
   "metadata": {},
   "source": [
    "## Exploring NumPy´s UFuncs"
   ]
  },
  {
   "cell_type": "markdown",
   "metadata": {},
   "source": [
    "Las Ufuncs existen en de dos tipos:\n",
    "\n",
    "1) Ufuncs unitarias que operan con un \"input\" simple\n",
    "\n",
    "2) Ufuncs binarias que operan con dos \"input\""
   ]
  },
  {
   "cell_type": "markdown",
   "metadata": {},
   "source": [
    "### Array arithmetic"
   ]
  },
  {
   "cell_type": "markdown",
   "metadata": {},
   "source": [
    "Ufuncs de NumPy es de uso natural por que las operaciones aritmeticas son similares a las utilizadas en Python"
   ]
  },
  {
   "cell_type": "code",
   "execution_count": 9,
   "metadata": {},
   "outputs": [],
   "source": [
    "x = np.arange(4) #Creo un array de 4 elementos"
   ]
  },
  {
   "cell_type": "code",
   "execution_count": 10,
   "metadata": {},
   "outputs": [
    {
     "data": {
      "text/plain": [
       "array([0, 1, 2, 3])"
      ]
     },
     "execution_count": 10,
     "metadata": {},
     "output_type": "execute_result"
    }
   ],
   "source": [
    "x"
   ]
  },
  {
   "cell_type": "code",
   "execution_count": 13,
   "metadata": {},
   "outputs": [
    {
     "name": "stdout",
     "output_type": "stream",
     "text": [
      "x   = [0 1 2 3]\n",
      "x+5 = [5 6 7 8]\n",
      "x-5 = [-5 -4 -3 -2]\n",
      "x*2 = [0 2 4 6]\n",
      "x/2 = [0.  0.5 1.  1.5]\n",
      "x//2= [0 0 1 1]\n"
     ]
    }
   ],
   "source": [
    "#A continuacion se veran operaciones sobre el array x, las cuales se realizan elemento a elemento del propio array\n",
    "\n",
    "print(\"x   =\",x) #Imprimo la igualdad\n",
    "print(\"x+5 =\", x+5) #Imprimo la suma\n",
    "print(\"x-5 =\", x-5) #Imprimi la resta\n",
    "print(\"x*2 =\", x*2) #Imprimo la multiplicacion\n",
    "print(\"x/2 =\", x/2) #Imprimo la division\n",
    "print(\"x//2=\", x//2) #Imprimo la division entera"
   ]
  },
  {
   "cell_type": "markdown",
   "metadata": {},
   "source": [
    "Tambien existen funciones unitarias para la negacion, potencia y modulo:"
   ]
  },
  {
   "cell_type": "code",
   "execution_count": 14,
   "metadata": {},
   "outputs": [
    {
     "name": "stdout",
     "output_type": "stream",
     "text": [
      "x   = [ 0 -1 -2 -3]\n",
      "x**2= [0 1 4 9]\n",
      "x% 2= [0 1 0 1]\n"
     ]
    }
   ],
   "source": [
    "print(\"x   =\",-x)\n",
    "print(\"x**2=\",x**2)\n",
    "print(\"x% 2=\",x%2)"
   ]
  },
  {
   "cell_type": "markdown",
   "metadata": {},
   "source": [
    "Para el caso de operaciones compuestas el orden de las operaciones aritmeticas se respeta (operator precedence)"
   ]
  },
  {
   "cell_type": "code",
   "execution_count": 16,
   "metadata": {},
   "outputs": [
    {
     "data": {
      "text/plain": [
       "array([-1.  , -2.25, -4.  , -6.25])"
      ]
     },
     "execution_count": 16,
     "metadata": {},
     "output_type": "execute_result"
    }
   ],
   "source": [
    "-(0.5*x + 1)**2 #Realizo una operacion compuesta"
   ]
  },
  {
   "cell_type": "markdown",
   "metadata": {},
   "source": [
    "Todas estas operacioes aritmeticas son simplemente \"envoltorios\" de funciones construidas en NumPy. Por ejemplo el operador suma(+) se corresponde con la funcion ADD:"
   ]
  },
  {
   "cell_type": "code",
   "execution_count": 19,
   "metadata": {},
   "outputs": [
    {
     "data": {
      "text/plain": [
       "array([2, 3, 4, 5])"
      ]
     },
     "execution_count": 19,
     "metadata": {},
     "output_type": "execute_result"
    }
   ],
   "source": [
    "np.add(x,2) #Utilizo la \"built in function\" add"
   ]
  },
  {
   "attachments": {
    "image.png": {
     "image/png": "[encoded data removed]"
    }
   },
   "cell_type": "markdown",
   "metadata": {},
   "source": [
    "![image.png](attachment:image.png)"
   ]
  },
  {
   "cell_type": "markdown",
   "metadata": {},
   "source": [
    "### Absolute Value"
   ]
  },
  {
   "cell_type": "code",
   "execution_count": 22,
   "metadata": {},
   "outputs": [],
   "source": [
    "x = np.array([-2,-1,0,1,2]) #Creo un array 1D"
   ]
  },
  {
   "cell_type": "code",
   "execution_count": 23,
   "metadata": {},
   "outputs": [
    {
     "data": {
      "text/plain": [
       "array([-2, -1,  0,  1,  2])"
      ]
     },
     "execution_count": 23,
     "metadata": {},
     "output_type": "execute_result"
    }
   ],
   "source": [
    "x"
   ]
  },
  {
   "cell_type": "code",
   "execution_count": 25,
   "metadata": {},
   "outputs": [
    {
     "data": {
      "text/plain": [
       "array([2, 1, 0, 1, 2])"
      ]
     },
     "execution_count": 25,
     "metadata": {},
     "output_type": "execute_result"
    }
   ],
   "source": [
    "abs(x) #Obtengo el valor absoluto de cada elemento del arrays"
   ]
  },
  {
   "cell_type": "markdown",
   "metadata": {},
   "source": [
    "La corrrspondiente Ufunc para NumPy es np.absolute, la cual tambien se encuentra disponible por medio del alias np.abs"
   ]
  },
  {
   "cell_type": "code",
   "execution_count": 26,
   "metadata": {},
   "outputs": [
    {
     "data": {
      "text/plain": [
       "array([2, 1, 0, 1, 2])"
      ]
     },
     "execution_count": 26,
     "metadata": {},
     "output_type": "execute_result"
    }
   ],
   "source": [
    "np.absolute(x) #Utilizo la Ufunc de NumPy para obtener el valor absoluto"
   ]
  },
  {
   "cell_type": "code",
   "execution_count": 28,
   "metadata": {},
   "outputs": [
    {
     "data": {
      "text/plain": [
       "array([2, 1, 0, 1, 2])"
      ]
     },
     "execution_count": 28,
     "metadata": {},
     "output_type": "execute_result"
    }
   ],
   "source": [
    "np.abs(x) #Tambien puedo utilizar la forma abreviada"
   ]
  },
  {
   "cell_type": "markdown",
   "metadata": {},
   "source": [
    "La Ufunc puede tambien manejar datos complejos, en cuyo caso el valor absoluto retorna la magnitud"
   ]
  },
  {
   "cell_type": "code",
   "execution_count": 29,
   "metadata": {},
   "outputs": [],
   "source": [
    "x = np.array([3-4j,4-3j,2+0j,0+1j]) #Creo un array con elementos complejos"
   ]
  },
  {
   "cell_type": "code",
   "execution_count": 30,
   "metadata": {},
   "outputs": [
    {
     "data": {
      "text/plain": [
       "array([3.-4.j, 4.-3.j, 2.+0.j, 0.+1.j])"
      ]
     },
     "execution_count": 30,
     "metadata": {},
     "output_type": "execute_result"
    }
   ],
   "source": [
    "x"
   ]
  },
  {
   "cell_type": "code",
   "execution_count": 32,
   "metadata": {},
   "outputs": [
    {
     "data": {
      "text/plain": [
       "array([5., 5., 2., 1.])"
      ]
     },
     "execution_count": 32,
     "metadata": {},
     "output_type": "execute_result"
    }
   ],
   "source": [
    "np.abs(x) #Obtengo la magnitud de los numeros complejos"
   ]
  },
  {
   "cell_type": "markdown",
   "metadata": {},
   "source": [
    "### Trigonometric functions"
   ]
  },
  {
   "cell_type": "markdown",
   "metadata": {},
   "source": [
    "NumPy provee un largo numero de Ufuncs y algunas son muy utiles para ciencia de datos, como ejemplo las funciones trigonometricas"
   ]
  },
  {
   "cell_type": "code",
   "execution_count": 36,
   "metadata": {},
   "outputs": [],
   "source": [
    "#Comenzaremos definiendo un array de angulos\n",
    "\n",
    "#Inicio = 0\n",
    "#Fin = numero pi\n",
    "#Numero de elementos=3\n",
    "\n",
    "theta = np.linspace(0,np.pi,3)"
   ]
  },
  {
   "cell_type": "code",
   "execution_count": 37,
   "metadata": {},
   "outputs": [
    {
     "data": {
      "text/plain": [
       "array([0.        , 1.57079633, 3.14159265])"
      ]
     },
     "execution_count": 37,
     "metadata": {},
     "output_type": "execute_result"
    }
   ],
   "source": [
    "theta"
   ]
  },
  {
   "cell_type": "markdown",
   "metadata": {},
   "source": [
    "Ahora se pueden realizar algunos computos con funciones trigonometricas:"
   ]
  },
  {
   "cell_type": "code",
   "execution_count": 40,
   "metadata": {},
   "outputs": [
    {
     "name": "stdout",
     "output_type": "stream",
     "text": [
      "theta     = [0.         1.57079633 3.14159265]\n",
      "sin(theta)= [0.0000000e+00 1.0000000e+00 1.2246468e-16]\n",
      "cos(theta)= [ 1.000000e+00  6.123234e-17 -1.000000e+00]\n",
      "tan(theta)= [ 0.00000000e+00  1.63312394e+16 -1.22464680e-16]\n"
     ]
    }
   ],
   "source": [
    "print(\"theta     =\",theta) #Visualizo el valor del array de angulos\n",
    "print(\"sin(theta)=\",np.sin(theta)) #Calculo el seno de cada elemento del array\n",
    "print(\"cos(theta)=\",np.cos(theta)) #Calculo el coseno de cada elemento del array\n",
    "print(\"tan(theta)=\",np.tan(theta)) #Calculo la tangente de cada elemento del array"
   ]
  },
  {
   "cell_type": "markdown",
   "metadata": {},
   "source": [
    "Los valores son computados con precision de maquina, lo cual significa que valores que deben ser cero no siempre son exactamente cero"
   ]
  },
  {
   "cell_type": "markdown",
   "metadata": {},
   "source": [
    "Las funciones trigonometricas inversas tambien estan disponibles:"
   ]
  },
  {
   "cell_type": "code",
   "execution_count": 45,
   "metadata": {},
   "outputs": [
    {
     "name": "stdout",
     "output_type": "stream",
     "text": [
      "x        = [-1, 0, 1]\n",
      "arcsin(x)= [-1.57079633  0.          1.57079633]\n",
      "arccos(x)= [3.14159265 1.57079633 0.        ]\n",
      "arctan(x)= [-0.78539816  0.          0.78539816]\n"
     ]
    }
   ],
   "source": [
    "x = [-1,0,1] #Creo una lista de 3 elementos\n",
    "print(\"x        =\",x) #Visualizo el valor del array de angulos\n",
    "print(\"arcsin(x)=\",np.arcsin(x)) #Calculo el arcoseno de cada elemento del array\n",
    "print(\"arccos(x)=\",np.arccos(x)) #Calculo el arcocoseno de cada elemento del array\n",
    "print(\"arctan(x)=\",np.arctan(x)) #Calculo el arcotangente de cada elemento del array"
   ]
  },
  {
   "cell_type": "markdown",
   "metadata": {},
   "source": [
    "### Exponents and logarithms"
   ]
  },
  {
   "cell_type": "markdown",
   "metadata": {},
   "source": [
    "Otro tipo comun de operaciones disponibles en NumPy Ufuncs son los exponentes:"
   ]
  },
  {
   "cell_type": "code",
   "execution_count": 47,
   "metadata": {},
   "outputs": [],
   "source": [
    "x = [1,2,3] #Creo un lista de 3 elementos"
   ]
  },
  {
   "cell_type": "code",
   "execution_count": 49,
   "metadata": {},
   "outputs": [
    {
     "name": "stdout",
     "output_type": "stream",
     "text": [
      "x   = [1, 2, 3]\n",
      "e^x = [ 2.71828183  7.3890561  20.08553692]\n",
      "2^x = [2. 4. 8.]\n",
      "3^x = [ 3  9 27]\n"
     ]
    }
   ],
   "source": [
    "print(\"x   =\",x) #Visualizo la lista creada de 3 elementos\n",
    "print(\"e^x =\",np.exp(x)) #Calculo el exponente base e\n",
    "print(\"2^x =\",np.exp2(x)) #Calculo el exponente base 2\n",
    "print(\"3^x =\",np.power(3,x)) #Calculo el exponente base 3"
   ]
  },
  {
   "cell_type": "markdown",
   "metadata": {},
   "source": [
    "Los inversos a los exponentes, los logaritmos tambien se encuentran disponibles.\n",
    "\n",
    "np.log se utiliza para el logaritmo natural\n",
    "Tambien se encuentan disponibles los logaritmos base 2 y logaritmos base 10"
   ]
  },
  {
   "cell_type": "code",
   "execution_count": 52,
   "metadata": {},
   "outputs": [],
   "source": [
    "x = [1,2,4,10] #Creo una lista de 4 elementos"
   ]
  },
  {
   "cell_type": "code",
   "execution_count": 54,
   "metadata": {},
   "outputs": [
    {
     "name": "stdout",
     "output_type": "stream",
     "text": [
      "x         = [1, 2, 4, 10]\n",
      "ln(x)     = [0.         0.69314718 1.38629436 2.30258509]\n",
      "log2(x)   = [0.         1.         2.         3.32192809]\n",
      "log10(x)  = [0.         0.30103    0.60205999 1.        ]\n"
     ]
    }
   ],
   "source": [
    "print(\"x         =\",x) #Visualizo la lista creada de 4 elementos\n",
    "print(\"ln(x)     =\",np.log(x)) #Visualizo el logaritmo natural\n",
    "print(\"log2(x)   =\",np.log2(x)) #Visualizo el logaritmo base 2\n",
    "print(\"log10(x)  =\",np.log10(x)) #Visualizo el logaritmo base 10"
   ]
  },
  {
   "cell_type": "markdown",
   "metadata": {},
   "source": [
    "Existen algunas versiones especializadas que son utiles para mantener la precision con pequeños inputs:"
   ]
  },
  {
   "cell_type": "code",
   "execution_count": 58,
   "metadata": {},
   "outputs": [],
   "source": [
    "x = [0,0.001,0.01,0.1] #Creo una lista de 4 elementos"
   ]
  },
  {
   "cell_type": "code",
   "execution_count": 57,
   "metadata": {},
   "outputs": [
    {
     "data": {
      "text/plain": [
       "[0, 0.001, 0.01, 0.1]"
      ]
     },
     "execution_count": 57,
     "metadata": {},
     "output_type": "execute_result"
    }
   ],
   "source": [
    "x"
   ]
  },
  {
   "cell_type": "code",
   "execution_count": 59,
   "metadata": {},
   "outputs": [
    {
     "name": "stdout",
     "output_type": "stream",
     "text": [
      "exp(x)-1 = [0.         0.0010005  0.01005017 0.10517092]\n",
      "log(1+x) = [0.         0.0009995  0.00995033 0.09531018]\n"
     ]
    }
   ],
   "source": [
    "print(\"exp(x)-1 =\",np.expm1(x))\n",
    "print(\"log(1+x) =\",np.log1p(x))"
   ]
  },
  {
   "cell_type": "markdown",
   "metadata": {},
   "source": [
    "Cuando x es muy pequeño estas funciones dan valores mas precisos que el calculo por medio de np.log o np.exp"
   ]
  },
  {
   "cell_type": "markdown",
   "metadata": {},
   "source": [
    "### Specialized Ufuncs"
   ]
  },
  {
   "cell_type": "markdown",
   "metadata": {},
   "source": [
    "NumPy tiene muchas otras Ufuncs disponibles, incluidas entre otras: Funciones trigonometricas hiperbolicas, aritmica de bits, operadores de comparacion, conversiones de radianes a grados, redondeos y remanentes y muchos otros. Una vista a traves de la documentacion de NumPy revela muchas otras funcionalidades interesantes"
   ]
  },
  {
   "cell_type": "markdown",
   "metadata": {},
   "source": [
    "Otra excelente fuente es scipy.special. Algunos ejemplos se muestran a continuacion:"
   ]
  },
  {
   "cell_type": "code",
   "execution_count": 2,
   "metadata": {},
   "outputs": [],
   "source": [
    "from scipy import special"
   ]
  },
  {
   "cell_type": "code",
   "execution_count": 3,
   "metadata": {},
   "outputs": [
    {
     "name": "stdout",
     "output_type": "stream",
     "text": [
      "gamma(x)    = [1.0000e+00 2.4000e+01 3.6288e+05]\n",
      "ln|gamma(x)|= [ 0.          3.17805383 12.80182748]\n",
      "beta(x,2)   = [0.5        0.03333333 0.00909091]\n"
     ]
    }
   ],
   "source": [
    "#Funcion gamma(factoriales generalizados) y funciones relacionadas\n",
    "\n",
    "x = [1,5,10]\n",
    "print(\"gamma(x)    =\",special.gamma(x))\n",
    "print(\"ln|gamma(x)|=\",special.gammaln(x))\n",
    "print(\"beta(x,2)   =\",special.beta(x,2))"
   ]
  },
  {
   "cell_type": "code",
   "execution_count": 4,
   "metadata": {},
   "outputs": [
    {
     "name": "stdout",
     "output_type": "stream",
     "text": [
      "erf(x)   = [0.         0.32862676 0.67780119 0.84270079]\n",
      "erdc(x)  = [1.         0.67137324 0.32219881 0.15729921]\n",
      "erfinv(x)= [0.         0.27246271 0.73286908        inf]\n"
     ]
    }
   ],
   "source": [
    "#Funcion error (integral de la guassiana): Su complemente y su inversa\n",
    "\n",
    "x = np.array([0,0.3,0.7,1.0])\n",
    "print(\"erf(x)   =\",special.erf(x))\n",
    "print(\"erdc(x)  =\",special.erfc(x))\n",
    "print(\"erfinv(x)=\",special.erfinv(x))"
   ]
  },
  {
   "cell_type": "markdown",
   "metadata": {},
   "source": [
    "Existen muchisimas Ufuncs disponibles en NumPy y scipy.special"
   ]
  },
  {
   "cell_type": "markdown",
   "metadata": {},
   "source": [
    "## Caracteristicas avanzadas Ufuncs"
   ]
  },
  {
   "cell_type": "markdown",
   "metadata": {},
   "source": [
    "### Especificando salidas"
   ]
  },
  {
   "cell_type": "markdown",
   "metadata": {},
   "source": [
    "Para calculos largos algunas veces es util especificar el array donde los resultados de los calculos seran almacenados. En lugar de crear un array temporario, uno puede utilizar esto para escribir los resultados del computo directamente en ubicacion de memoria donde uno quiere que este. Para todas las Ufuncs, uno puede realizar esto utilizando el argumento \"out\" de la funcion:"
   ]
  },
  {
   "cell_type": "code",
   "execution_count": 6,
   "metadata": {},
   "outputs": [
    {
     "name": "stdout",
     "output_type": "stream",
     "text": [
      "[ 0. 10. 20. 30. 40.]\n"
     ]
    }
   ],
   "source": [
    "x = np.arange(5) #Creo un array de 5 elementos para utilizar en el calculo\n",
    "y = np.empty(5) #Creo un array empty de 5 elementos que luego utilizara para almacenar los resultados del calculo\n",
    "np.multiply(x,10,out=y) #Realizo la operacion de multiplicacion y almaceno el resultado en el array y\n",
    "print(y) #Imprimo el resultado"
   ]
  },
  {
   "cell_type": "markdown",
   "metadata": {},
   "source": [
    "Esto incluse se puede utilizar con vistas del array. Por ejemplo podemos escribir los resultados de un computo en cualquier otro elemento:"
   ]
  },
  {
   "cell_type": "code",
   "execution_count": 21,
   "metadata": {},
   "outputs": [
    {
     "name": "stdout",
     "output_type": "stream",
     "text": [
      "[0. 0. 0. 0. 0. 0. 0. 0. 0. 0.]\n"
     ]
    }
   ],
   "source": [
    "y = np.zeros(10) #Creo un array de ceros con 10 elementos\n",
    "np.power(2,x,out=y[::2]) #Realizo la operacion de potenciacion 2**x y lo almaceno en los elementos del array 2 con step=2\n",
    "print(y) #Imprimo el resultado"
   ]
  },
  {
   "cell_type": "markdown",
   "metadata": {},
   "source": [
    "Si nosotros hubiesemos escrito y[::2] = 2**x esto hubiese resultado en la creacion de un array temporario que aloje los resultados de 2**x, seguido por una segunda operacion copiando estos valores en el array y. Esto no tiene mucho diferencia para computos pequeños, pero para muy largos arrays el ahorro de memoria debido a un uso cuidadoso del argunmento out puede ser significante "
   ]
  },
  {
   "cell_type": "markdown",
   "metadata": {},
   "source": [
    "### Agregados"
   ]
  },
  {
   "cell_type": "markdown",
   "metadata": {},
   "source": [
    "Para Ufuncs binarias existen algunos \"agregados\" interesantes que puede ser computados directamente del objeto\n",
    "\n",
    "Por ejemplo, llamando a la funcion \"reduce\" en la Ufunc \"add\" se obtiene la suma de todos los elementos del array:"
   ]
  },
  {
   "cell_type": "code",
   "execution_count": 28,
   "metadata": {},
   "outputs": [
    {
     "data": {
      "text/plain": [
       "15"
      ]
     },
     "execution_count": 28,
     "metadata": {},
     "output_type": "execute_result"
    }
   ],
   "source": [
    "x = np.arange(1,6) #Creo un array de 5 elementos\n",
    "np.add.reduce(x) #Sumo los elementos del array y retorno el valor"
   ]
  },
  {
   "cell_type": "markdown",
   "metadata": {},
   "source": [
    "En forma similar llamando \"reduce\" en la Ufunc \"multiply\" se obtiene el producto de todos los elementos del array"
   ]
  },
  {
   "cell_type": "code",
   "execution_count": 29,
   "metadata": {},
   "outputs": [
    {
     "data": {
      "text/plain": [
       "120"
      ]
     },
     "execution_count": 29,
     "metadata": {},
     "output_type": "execute_result"
    }
   ],
   "source": [
    "np.multiply.reduce(x) #Multiplico los elementos del array y retorno el valor"
   ]
  },
  {
   "cell_type": "markdown",
   "metadata": {},
   "source": [
    "Si queremos almacenar todos los resultados intermedios del computo podemos utilizar \"accumulate\":"
   ]
  },
  {
   "cell_type": "code",
   "execution_count": 30,
   "metadata": {},
   "outputs": [
    {
     "data": {
      "text/plain": [
       "array([ 1,  3,  6, 10, 15], dtype=int32)"
      ]
     },
     "execution_count": 30,
     "metadata": {},
     "output_type": "execute_result"
    }
   ],
   "source": [
    "np.add.accumulate(x) #Veo los calculos intermedios de la suma de los elementos del array"
   ]
  },
  {
   "cell_type": "code",
   "execution_count": 33,
   "metadata": {},
   "outputs": [
    {
     "data": {
      "text/plain": [
       "array([  1,   2,   6,  24, 120], dtype=int32)"
      ]
     },
     "execution_count": 33,
     "metadata": {},
     "output_type": "execute_result"
    }
   ],
   "source": [
    "np.multiply.accumulate(x) #Veo los calculos intermedios del producto de los elementos del array"
   ]
  },
  {
   "cell_type": "markdown",
   "metadata": {},
   "source": [
    "Notar que para estos casos particulares existen funciones de NumPy dedicados para computar los resultados:\n",
    "\n",
    "np.sum\n",
    "\n",
    "np.prod\n",
    "\n",
    "np.cumsum\n",
    "\n",
    "np.cumprod"
   ]
  },
  {
   "cell_type": "markdown",
   "metadata": {},
   "source": [
    "### Producto de Matrices "
   ]
  },
  {
   "cell_type": "markdown",
   "metadata": {},
   "source": [
    "Finalmente cualquier Ufunc puede computar la salida de todos los pares de diferentes imputs utilizando el metodo \"outer\":"
   ]
  },
  {
   "cell_type": "code",
   "execution_count": 37,
   "metadata": {},
   "outputs": [
    {
     "data": {
      "text/plain": [
       "array([1, 2, 3, 4, 5])"
      ]
     },
     "execution_count": 37,
     "metadata": {},
     "output_type": "execute_result"
    }
   ],
   "source": [
    "x = np.arange(1,6) #Creo una array 1D de 5 elementos\n",
    "x #Visualizo el array"
   ]
  },
  {
   "cell_type": "code",
   "execution_count": 38,
   "metadata": {},
   "outputs": [
    {
     "data": {
      "text/plain": [
       "array([[ 1,  2,  3,  4,  5],\n",
       "       [ 2,  4,  6,  8, 10],\n",
       "       [ 3,  6,  9, 12, 15],\n",
       "       [ 4,  8, 12, 16, 20],\n",
       "       [ 5, 10, 15, 20, 25]])"
      ]
     },
     "execution_count": 38,
     "metadata": {},
     "output_type": "execute_result"
    }
   ],
   "source": [
    "np.multiply.outer(x,x) #Realizo el producto utilizando como vector fila y vector columna el array 1D creado anteriormente"
   ]
  },
  {
   "attachments": {
    "image.png": {
     "image/png": "[encoded data removed]"
    }
   },
   "cell_type": "markdown",
   "metadata": {},
   "source": [
    "![image.png](attachment:image.png)"
   ]
  }
 ],
 "metadata": {
  "kernelspec": {
   "display_name": "Python 3",
   "language": "python",
   "name": "python3"
  },
  "language_info": {
   "codemirror_mode": {
    "name": "ipython",
    "version": 3
   },
   "file_extension": ".py",
   "mimetype": "text/x-python",
   "name": "python",
   "nbconvert_exporter": "python",
   "pygments_lexer": "ipython3",
   "version": "3.7.1"
  }
 },
 "nbformat": 4,
 "nbformat_minor": 2
}
